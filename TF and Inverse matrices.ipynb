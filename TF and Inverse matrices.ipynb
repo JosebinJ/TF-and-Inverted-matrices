{
 "cells": [
  {
   "cell_type": "code",
   "execution_count": 1,
   "id": "75f8f99c",
   "metadata": {},
   "outputs": [],
   "source": [
    "doc1 = 'New Chelsea manager Graham Potter has penned a farewell letter to the fans of his former club Brighton and Hove Albion asking for forgiveness for his abrupt departure and hoping they understood his reasons'\n",
    "doc2 = 'The Union Government is committed to accelerating the pace and expanding the scope of COVID-19 vaccination throughout the country'\n",
    "doc3 = 'A large satellite launching to space tomorrow could become brighter than any other object in the night sky except the moon raising concerns about its impact on astronomy'"
   ]
  },
  {
   "cell_type": "code",
   "execution_count": 2,
   "id": "7fd21124",
   "metadata": {},
   "outputs": [
    {
     "data": {
      "text/plain": [
       "['New Chelsea manager Graham Potter has penned a farewell letter to the fans of his former club Brighton and Hove Albion asking for forgiveness for his abrupt departure and hoping they understood his reasons',\n",
       " 'The Union Government is committed to accelerating the pace and expanding the scope of COVID-19 vaccination throughout the country',\n",
       " 'The Union Government is committed to accelerating the pace and expanding the scope of COVID-19 vaccination throughout the country']"
      ]
     },
     "execution_count": 2,
     "metadata": {},
     "output_type": "execute_result"
    }
   ],
   "source": [
    "docs = [doc1, doc2, doc2]\n",
    "docs"
   ]
  },
  {
   "cell_type": "code",
   "execution_count": 3,
   "id": "0688b321",
   "metadata": {},
   "outputs": [
    {
     "data": {
      "text/plain": [
       "{'Albion',\n",
       " 'Brighton',\n",
       " 'COVID-19',\n",
       " 'Chelsea',\n",
       " 'Government',\n",
       " 'Graham',\n",
       " 'Hove',\n",
       " 'New',\n",
       " 'Potter',\n",
       " 'The',\n",
       " 'Union',\n",
       " 'a',\n",
       " 'abrupt',\n",
       " 'accelerating',\n",
       " 'and',\n",
       " 'asking',\n",
       " 'club',\n",
       " 'committed',\n",
       " 'country',\n",
       " 'departure',\n",
       " 'expanding',\n",
       " 'fans',\n",
       " 'farewell',\n",
       " 'for',\n",
       " 'forgiveness',\n",
       " 'former',\n",
       " 'has',\n",
       " 'his',\n",
       " 'hoping',\n",
       " 'is',\n",
       " 'letter',\n",
       " 'manager',\n",
       " 'of',\n",
       " 'pace',\n",
       " 'penned',\n",
       " 'reasons',\n",
       " 'scope',\n",
       " 'the',\n",
       " 'they',\n",
       " 'throughout',\n",
       " 'to',\n",
       " 'understood',\n",
       " 'vaccination'}"
      ]
     },
     "execution_count": 3,
     "metadata": {},
     "output_type": "execute_result"
    }
   ],
   "source": [
    "# finding unique terms from the corpus\n",
    "uni_terms = {term for doc in docs for term in doc.split()}\n",
    "uni_terms"
   ]
  },
  {
   "cell_type": "markdown",
   "id": "656c954c",
   "metadata": {},
   "source": [
    "#### TF matrix"
   ]
  },
  {
   "cell_type": "code",
   "execution_count": 4,
   "id": "a28fb611",
   "metadata": {},
   "outputs": [
    {
     "data": {
      "text/plain": [
       "{'reasons': [1, 0, 0],\n",
       " 'accelerating': [0, 1, 1],\n",
       " 'Graham': [1, 0, 0],\n",
       " 'hoping': [1, 0, 0],\n",
       " 'and': [1, 1, 1],\n",
       " 'Hove': [1, 0, 0],\n",
       " 'the': [1, 1, 1],\n",
       " 'farewell': [1, 0, 0],\n",
       " 'they': [1, 0, 0],\n",
       " 'Chelsea': [1, 0, 0],\n",
       " 'committed': [0, 1, 1],\n",
       " 'vaccination': [0, 1, 1],\n",
       " 'expanding': [0, 1, 1],\n",
       " 'scope': [0, 1, 1],\n",
       " 'Potter': [1, 0, 0],\n",
       " 'is': [1, 1, 1],\n",
       " 'of': [1, 1, 1],\n",
       " 'throughout': [0, 1, 1],\n",
       " 'has': [1, 0, 0],\n",
       " 'Government': [0, 1, 1],\n",
       " 'COVID-19': [0, 1, 1],\n",
       " 'Brighton': [1, 0, 0],\n",
       " 'abrupt': [1, 0, 0],\n",
       " 'penned': [1, 0, 0],\n",
       " 'understood': [1, 0, 0],\n",
       " 'former': [1, 0, 0],\n",
       " 'to': [1, 1, 1],\n",
       " 'club': [1, 0, 0],\n",
       " 'Albion': [1, 0, 0],\n",
       " 'New': [1, 0, 0],\n",
       " 'his': [1, 0, 0],\n",
       " 'a': [1, 1, 1],\n",
       " 'The': [0, 1, 1],\n",
       " 'forgiveness': [1, 0, 0],\n",
       " 'manager': [1, 0, 0],\n",
       " 'fans': [1, 0, 0],\n",
       " 'departure': [1, 0, 0],\n",
       " 'country': [0, 1, 1],\n",
       " 'pace': [0, 1, 1],\n",
       " 'asking': [1, 0, 0],\n",
       " 'Union': [0, 1, 1],\n",
       " 'letter': [1, 0, 0],\n",
       " 'for': [1, 0, 0]}"
      ]
     },
     "execution_count": 4,
     "metadata": {},
     "output_type": "execute_result"
    }
   ],
   "source": [
    "# constructing term-document index\n",
    "doc_trm_matrix = {}\n",
    "\n",
    "for term in uni_terms:\n",
    "    doc_trm_matrix[term] = []\n",
    "    \n",
    "    for doc in docs:\n",
    "        if term in doc:\n",
    "            doc_trm_matrix[term].append(1)\n",
    "        else:\n",
    "            doc_trm_matrix[term].append(0)\n",
    "            \n",
    "doc_trm_matrix"
   ]
  },
  {
   "cell_type": "code",
   "execution_count": 7,
   "id": "32fe64fa",
   "metadata": {},
   "outputs": [
    {
     "name": "stdout",
     "output_type": "stream",
     "text": [
      "[0 1 1]\n",
      "[0 1 1]\n",
      "[0 1 1]\n",
      "[0 1 1]\n",
      "[1 1 1]\n",
      "[1 1 1]\n",
      "[1 1 1]\n",
      "-------\n",
      "[0 1 1]\n"
     ]
    }
   ],
   "source": [
    "# bitwise AND contruct on the queries\n",
    "import numpy as np\n",
    "\n",
    "doc_array = np.array(docs, dtype='object')\n",
    "\n",
    "v1 = np.array(doc_trm_matrix['vaccination'])\n",
    "v2 = np.array(doc_trm_matrix['expanding'])\n",
    "v3 = np.array(doc_trm_matrix['throughout'])\n",
    "v4 = np.array(doc_trm_matrix['scope'])\n",
    "v5 = np.array(doc_trm_matrix['a'])\n",
    "v6 = np.array(doc_trm_matrix['to'])\n",
    "v7 = np.array(doc_trm_matrix['is'])\n",
    "print(v1)\n",
    "print(v2)\n",
    "print(v3)\n",
    "print(v4)\n",
    "print(v5)\n",
    "print(v6)Albion\n",
    "print(v7)\n",
    "print('-------')\n",
    "     \n",
    "v = v1 & v2 & v3 & v4 & v5 & v6 & v7\n",
    "print(v)"
   ]
  },
  {
   "cell_type": "code",
   "execution_count": 8,
   "id": "be2b48c8",
   "metadata": {},
   "outputs": [
    {
     "data": {
      "text/plain": [
       "['The Union Government is committed to accelerating the pace and expanding the scope of COVID-19 vaccination throughout the country',\n",
       " 'The Union Government is committed to accelerating the pace and expanding the scope of COVID-19 vaccination throughout the country']"
      ]
     },
     "execution_count": 8,
     "metadata": {},
     "output_type": "execute_result"
    }
   ],
   "source": [
    "# finding matching documents from the corpus.\n",
    "[doc for doc in v * doc_array if doc]"
   ]
  },
  {
   "cell_type": "code",
   "execution_count": 9,
   "id": "6f0af030",
   "metadata": {},
   "outputs": [
    {
     "name": "stdout",
     "output_type": "stream",
     "text": [
      "[1 0 0]\n",
      "[1 0 0]\n",
      "[0 1 1]\n",
      "[1 0 0]\n",
      "[1 0 0]\n",
      "--------\n",
      "[1 1 1]\n"
     ]
    }
   ],
   "source": [
    "# bitwise OR construct on the queries\n",
    "v1 = np.array(doc_trm_matrix['farewell'])\n",
    "v2 = np.array(doc_trm_matrix['Chelsea'])\n",
    "v3 = np.array(doc_trm_matrix['COVID-19'])\n",
    "v4 = np.array(doc_trm_matrix['Albion'])\n",
    "v5 = np.array(doc_trm_matrix['departure'])\n",
    "\n",
    "print(v1)\n",
    "print(v2)\n",
    "print(v3)\n",
    "print(v4)\n",
    "print(v5)\n",
    "print('--------')\n",
    "v = v1 | v2 | v3 | v4 | v5\n",
    "print(v)"
   ]
  },
  {
   "cell_type": "code",
   "execution_count": 10,
   "id": "5d5f1c4a",
   "metadata": {},
   "outputs": [
    {
     "data": {
      "text/plain": [
       "['New Chelsea manager Graham Potter has penned a farewell letter to the fans of his former club Brighton and Hove Albion asking for forgiveness for his abrupt departure and hoping they understood his reasons',\n",
       " 'The Union Government is committed to accelerating the pace and expanding the scope of COVID-19 vaccination throughout the country',\n",
       " 'The Union Government is committed to accelerating the pace and expanding the scope of COVID-19 vaccination throughout the country']"
      ]
     },
     "execution_count": 10,
     "metadata": {},
     "output_type": "execute_result"
    }
   ],
   "source": [
    "# finding matching documents from the corpus.\n",
    "[doc for doc in v * doc_array if doc]"
   ]
  },
  {
   "cell_type": "markdown",
   "id": "c0dc7bd3",
   "metadata": {},
   "source": [
    "#### inverted matrix"
   ]
  },
  {
   "cell_type": "code",
   "execution_count": 12,
   "id": "f3e00a83",
   "metadata": {},
   "outputs": [
    {
     "data": {
      "text/plain": [
       "{'New': {0},\n",
       " 'Chelsea': {0},\n",
       " 'manager': {0},\n",
       " 'Graham': {0},\n",
       " 'Potter': {0},\n",
       " 'has': {0},\n",
       " 'penned': {0},\n",
       " 'a': {0},\n",
       " 'farewell': {0},\n",
       " 'letter': {0},\n",
       " 'to': {0, 1, 2},\n",
       " 'the': {0, 1, 2},\n",
       " 'fans': {0},\n",
       " 'of': {0, 1, 2},\n",
       " 'his': {0},\n",
       " 'former': {0},\n",
       " 'club': {0},\n",
       " 'Brighton': {0},\n",
       " 'and': {0, 1, 2},\n",
       " 'Hove': {0},\n",
       " 'Albion': {0},\n",
       " 'asking': {0},\n",
       " 'for': {0},\n",
       " 'forgiveness': {0},\n",
       " 'abrupt': {0},\n",
       " 'departure': {0},\n",
       " 'hoping': {0},\n",
       " 'they': {0},\n",
       " 'understood': {0},\n",
       " 'reasons': {0},\n",
       " 'The': {1, 2},\n",
       " 'Union': {1, 2},\n",
       " 'Government': {1, 2},\n",
       " 'is': {1, 2},\n",
       " 'committed': {1, 2},\n",
       " 'accelerating': {1, 2},\n",
       " 'pace': {1, 2},\n",
       " 'expanding': {1, 2},\n",
       " 'scope': {1, 2},\n",
       " 'COVID-19': {1, 2},\n",
       " 'vaccination': {1, 2},\n",
       " 'throughout': {1, 2},\n",
       " 'country': {1, 2}}"
      ]
     },
     "execution_count": 12,
     "metadata": {},
     "output_type": "execute_result"
    }
   ],
   "source": [
    "# constructing an inverted index\n",
    "inverted_index = {}\n",
    "\n",
    "for i, doc in enumerate(docs):\n",
    "    for term in doc.split():\n",
    "        if term in inverted_index:\n",
    "            inverted_index[term].add(i)\n",
    "        else:\n",
    "            inverted_index[term] = {i}\n",
    "            \n",
    "            \n",
    "inverted_index"
   ]
  },
  {
   "cell_type": "code",
   "execution_count": 13,
   "id": "b9acbb20",
   "metadata": {},
   "outputs": [
    {
     "data": {
      "text/plain": [
       "{1, 2}"
      ]
     },
     "execution_count": 13,
     "metadata": {},
     "output_type": "execute_result"
    }
   ],
   "source": [
    "# creating posting list for the terms\n",
    "posting_list = inverted_index['committed']\n",
    "posting_list"
   ]
  },
  {
   "cell_type": "code",
   "execution_count": 14,
   "id": "e7c6db69",
   "metadata": {},
   "outputs": [],
   "source": [
    "# performing boolean operations on posting lists\n",
    "def or_postings(posting1, posting2):\n",
    "    p1 = 0\n",
    "    p2 = 0\n",
    "    result = list()\n",
    "    while p1 < len(posting1) and p2 < len(posting2):\n",
    "        if posting1[p1] == posting2[p2]:\n",
    "            result.append(posting1[p1])\n",
    "            p1 += 1\n",
    "            p2 += 1\n",
    "        elif posting1[p1] > posting2[p2]:\n",
    "            result.append(posting2[p2])\n",
    "            p2 += 1\n",
    "        else:\n",
    "            result.append(posting1[p1])\n",
    "            p1 += 1\n",
    "    while p1 < len(posting1):\n",
    "        result.append(posting1[p1])\n",
    "        p1 += 1\n",
    "    while p2 < len(posting2):\n",
    "        result.append(posting2[p2])\n",
    "        p2 += 1\n",
    "    return result"
   ]
  },
  {
   "cell_type": "code",
   "execution_count": 15,
   "id": "ffc43718",
   "metadata": {},
   "outputs": [
    {
     "data": {
      "text/plain": [
       "[0, 1, 2]"
      ]
     },
     "execution_count": 15,
     "metadata": {},
     "output_type": "execute_result"
    }
   ],
   "source": [
    "pl_1 = list(inverted_index['committed'])\n",
    "pl_2 = list(inverted_index['and'])\n",
    "or_postings(pl_1, pl_2)"
   ]
  },
  {
   "cell_type": "code",
   "execution_count": 16,
   "id": "1f8371c1",
   "metadata": {},
   "outputs": [],
   "source": [
    "def and_postings(posting1, posting2):\n",
    "    p1 = 0\n",
    "    p2 = 0\n",
    "    result = list()\n",
    "    while p1 < len(posting1) and p2 < len(posting2):\n",
    "        if posting1[p1] == posting2[p2]:\n",
    "            result.append(posting1[p1])\n",
    "            p1 += 1\n",
    "            p2 += 1\n",
    "        elif posting1[p1] > posting2[p2]:\n",
    "            p2 += 1\n",
    "        else:\n",
    "            p1 += 1\n",
    "    return result"
   ]
  },
  {
   "cell_type": "code",
   "execution_count": 17,
   "id": "ae1166ec",
   "metadata": {},
   "outputs": [
    {
     "data": {
      "text/plain": [
       "[1, 2]"
      ]
     },
     "execution_count": 17,
     "metadata": {},
     "output_type": "execute_result"
    }
   ],
   "source": [
    "pl_1 = list(inverted_index['of'])\n",
    "pl_2 = list(inverted_index['expanding'])\n",
    "and_postings(pl_1, pl_2)"
   ]
  },
  {
   "cell_type": "code",
   "execution_count": null,
   "id": "9afdafaf",
   "metadata": {},
   "outputs": [],
   "source": []
  }
 ],
 "metadata": {
  "kernelspec": {
   "display_name": "Python 3",
   "language": "python",
   "name": "python3"
  },
  "language_info": {
   "codemirror_mode": {
    "name": "ipython",
    "version": 3
   },
   "file_extension": ".py",
   "mimetype": "text/x-python",
   "name": "python",
   "nbconvert_exporter": "python",
   "pygments_lexer": "ipython3",
   "version": "3.8.8"
  }
 },
 "nbformat": 4,
 "nbformat_minor": 5
}
